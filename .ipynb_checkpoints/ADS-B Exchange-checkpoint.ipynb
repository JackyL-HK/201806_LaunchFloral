{
 "cells": [
  {
   "cell_type": "code",
   "execution_count": 10,
   "metadata": {
    "scrolled": true
   },
   "outputs": [],
   "source": [
    "import os.path\n",
    "import os\n",
    "import pandas as pd\n",
    "import json\n",
    "from nested_lookup import nested_lookup as nl\n",
    "from time import strftime,localtime\n",
    "\n",
    "def chunker(seq, size):\n",
    "    return (seq[pos:pos + size] for pos in range(0, len(seq), size))"
   ]
  },
  {
   "cell_type": "code",
   "execution_count": 11,
   "metadata": {},
   "outputs": [],
   "source": [
    "file_path = os.path.join('data','2018-06-08-0000Z.json')\n",
    "with open(file_path, 'r', encoding='utf-8') as fp:\n",
    "    file = json.load(fp)"
   ]
  },
  {
   "cell_type": "code",
   "execution_count": 12,
   "metadata": {},
   "outputs": [
    {
     "name": "stdout",
     "output_type": "stream",
     "text": [
      "src       | <class 'int'>   | 1\n",
      "feeds     | <class 'list'>  | [{'id': 1, 'name': 'From Consolidator', 'polarPlot': False}]\n",
      "srcFeed   | <class 'int'>   | 1\n",
      "showSil   | <class 'bool'>  | True\n",
      "showFlg   | <class 'bool'>  | True\n",
      "showPic   | <class 'bool'>  | True\n",
      "flgH      | <class 'int'>   | 20\n",
      "flgW      | <class 'int'>   | 85\n",
      "acList    | <class 'list'>  | None\n",
      "totalAc   | <class 'int'>   | 9999\n",
      "lastDv    | <class 'str'>   | 9999\n",
      "shtTrlSec | <class 'int'>   | 65\n",
      "stm       | <class 'int'>   | 9999999999999\n",
      "Total: 13\n"
     ]
    }
   ],
   "source": [
    "for key in file.keys():\n",
    "    print(f'{key:9} | {str(type(file[key])):15} | {file[key] if not key == \"acList\" else None}')\n",
    "print('Total:',len(file.keys()))"
   ]
  },
  {
   "cell_type": "code",
   "execution_count": 13,
   "metadata": {},
   "outputs": [
    {
     "name": "stdout",
     "output_type": "stream",
     "text": [
      "Alt\tAltT\tBad\tCMsgs\tCNum\tCall\tCallSus\tCos\tCou\tEngMount\tEngType\tEngines\tFSeen\tFlightsCount\tFrom\tGAlt\tGnd\tHasPic\tHasSig\tHelp\tIcao\tId\tInHg\tInterested\tLat\tLong\tMan\tMdl\tMil\tMlat\tOp\tOpIcao\tPicX\tPicY\tPosStale\tPosTime\tRcvr\tReg\tResetTrail\tSat\tSig\tSpd\tSpdTyp\tSpecies\tSqk\tStops\tTAlt\tTSecs\tTT\tTTrk\tTag\tTisb\tTo\tTrak\tTrkH\tTrt\tType\tVsi\tVsiT\tWTC\tYear\n",
      "Total: 61\n"
     ]
    }
   ],
   "source": [
    "ac_key_list = []\n",
    "for ac in file['acList']:\n",
    "    ac_key_list.extend(ac.keys())\n",
    "ac_key_list = sorted(set(ac_key_list))\n",
    "# for key in ac_key_list:\n",
    "#     print(key)\n",
    "print('\\t'.join([key for key in ac_key_list]))\n",
    "print('Total:',len(ac_key_list))"
   ]
  },
  {
   "cell_type": "code",
   "execution_count": null,
   "metadata": {},
   "outputs": [],
   "source": [
    "printList = []\n",
    "for item in nl('Call',file['acList']):\n",
    "    printList.append(item)\n",
    "print('\\t'.join(printList))"
   ]
  },
  {
   "cell_type": "code",
   "execution_count": null,
   "metadata": {},
   "outputs": [],
   "source": [
    "cos_index_list = [i for i,ac in enumerate(file['acList']) if 'Cos' in ac]\n",
    "print(cos_index_list)"
   ]
  },
  {
   "cell_type": "code",
   "execution_count": null,
   "metadata": {},
   "outputs": [],
   "source": [
    "i = 5000\n",
    "\n",
    "print(file['acList'][i]['Call'])\n",
    "for n in chunker(file['acList'][i]['Cos'], 4):\n",
    "    print('{0:.6f}\\t{1:.6f}\\t{2}\\t{3}'.format(n[0],n[1],strftime('%Y-%m-%d %H:%M:%S',localtime(n[2]/1000)),n[3]))"
   ]
  },
  {
   "cell_type": "code",
   "execution_count": 46,
   "metadata": {},
   "outputs": [
    {
     "name": "stdout",
     "output_type": "stream",
     "text": [
      "2619 data\\2018-06-08\\2018-06-08-0000Z.json\n",
      "2600 data\\2018-06-08\\2018-06-08-0001Z.json\n",
      "2594 data\\2018-06-08\\2018-06-08-0002Z.json\n",
      "2613 data\\2018-06-08\\2018-06-08-0003Z.json\n",
      "2626 data\\2018-06-08\\2018-06-08-0004Z.json\n",
      "2631 data\\2018-06-08\\2018-06-08-0005Z.json\n",
      "2620 data\\2018-06-08\\2018-06-08-0006Z.json\n",
      "2631 data\\2018-06-08\\2018-06-08-0007Z.json\n",
      "4884 data\\2018-06-08\\2018-06-08-0008Z.json\n",
      "4943 data\\2018-06-08\\2018-06-08-0009Z.json\n",
      "5106 data\\2018-06-08\\2018-06-08-0010Z.json\n"
     ]
    }
   ],
   "source": [
    "data_path = os.path.join('data','2018-06-08')\n",
    "data_list = [os.path.join(data_path,data) for data in os.listdir(data_path)]\n",
    "data_list[:5]\n",
    "callsign = 'N23673'\n",
    "for file in data_list:\n",
    "    with open(file, 'r', encoding='utf-8') as fp:\n",
    "        data = json.load(fp)\n",
    "    if callsign in nl('Call',data['acList']):\n",
    "        for i,ac in enumerate(data['acList']):\n",
    "            if 'Call' in ac and ac['Call'] == callsign:\n",
    "                callsign_index = i\n",
    "                print(i, file)\n",
    "                break\n",
    "    else:\n",
    "        break\n",
    "print('END')\n",
    "        "
   ]
  },
  {
   "cell_type": "code",
   "execution_count": null,
   "metadata": {},
   "outputs": [],
   "source": []
  }
 ],
 "metadata": {
  "kernelspec": {
   "display_name": "Python 3",
   "language": "python",
   "name": "python3"
  },
  "language_info": {
   "codemirror_mode": {
    "name": "ipython",
    "version": 3
   },
   "file_extension": ".py",
   "mimetype": "text/x-python",
   "name": "python",
   "nbconvert_exporter": "python",
   "pygments_lexer": "ipython3",
   "version": "3.6.4"
  }
 },
 "nbformat": 4,
 "nbformat_minor": 2
}
